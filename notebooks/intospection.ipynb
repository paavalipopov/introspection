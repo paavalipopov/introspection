{
 "cells": [
  {
   "cell_type": "code",
   "execution_count": 3,
   "id": "f8726307",
   "metadata": {},
   "outputs": [],
   "source": [
    "import os\n",
    "import sys\n",
    "import path\n",
    "os.environ[\"OMP_NUM_THREADS\"] = \"1\"\n",
    "os.environ[\"MKL_NUM_THREADS\"] = \"1\"\n",
    "sys.path.insert(0, path.Path(os.getcwd()).joinpath(\"..\").abspath())"
   ]
  },
  {
   "cell_type": "code",
   "execution_count": 4,
   "id": "b3585420",
   "metadata": {},
   "outputs": [],
   "source": [
    "import matplotlib.pyplot as plt\n",
    "import seaborn as sns\n",
    "\n",
    "# from IPython.display import set_matplotlib_formats\n",
    "\n",
    "%matplotlib inline\n",
    "# set_matplotlib_formats(\"svg\")\n",
    "sns.set_theme(style=\"whitegrid\", font_scale=2, rc={\"figure.figsize\": (18, 9)})"
   ]
  },
  {
   "cell_type": "markdown",
   "id": "281045e2",
   "metadata": {},
   "source": [
    "## Common"
   ]
  },
  {
   "cell_type": "code",
   "execution_count": 5,
   "id": "a2b5fa57",
   "metadata": {},
   "outputs": [],
   "source": [
    "import os\n",
    "\n",
    "import numpy as np\n",
    "import pandas as pd\n",
    "import torch\n",
    "\n",
    "from captum.attr import visualization as viz\n",
    "from captum.attr import (\n",
    "    Saliency, \n",
    "    IntegratedGradients,\n",
    "    NoiseTunnel,\n",
    "    LayerGradCam, \n",
    "    FeatureAblation, \n",
    "    LayerActivation, \n",
    "    LayerAttribution\n",
    ")\n",
    "\n",
    "from matplotlib.colors import LinearSegmentedColormap"
   ]
  },
  {
   "cell_type": "markdown",
   "id": "19e83b56",
   "metadata": {},
   "source": [
    "## CV-based"
   ]
  },
  {
   "cell_type": "code",
   "execution_count": null,
   "id": "817e4609",
   "metadata": {},
   "outputs": [],
   "source": [
    "def unnormalize(tensor: torch.Tensor, mean, std, inplace=False):\n",
    "    \"\"\"Normalize a tensor image with mean and standard deviation.\n",
    "\n",
    "    .. note::\n",
    "        This transform acts out of place by default, i.e., it does not mutates the input tensor.\n",
    "\n",
    "    Args:\n",
    "        tensor: Tensor image of size (C, H, W) to be normalized.\n",
    "        mean: Sequence of means for each channel.\n",
    "        std: Sequence of standard deviations for each channel.\n",
    "        inplace(bool,optional): Bool to make this operation inplace.\n",
    "\n",
    "    Returns:\n",
    "        torch.Tensor: Normalized Tensor image.\n",
    "\n",
    "    Raises:\n",
    "        TypeError: if `tensor` is not torch.Tensor\n",
    "    \"\"\"\n",
    "    if not (torch.is_tensor(tensor) and tensor.ndimension() == 3):\n",
    "        raise TypeError(\"tensor is not a torch image.\")\n",
    "\n",
    "    if not inplace:\n",
    "        tensor = tensor.clone()\n",
    "\n",
    "    dtype = tensor.dtype\n",
    "    mean = torch.as_tensor(mean, dtype=dtype, device=tensor.device)\n",
    "    std = torch.as_tensor(std, dtype=dtype, device=tensor.device)\n",
    "    tensor.mul_(std[:, None, None]).add_(mean[:, None, None])\n",
    "    return tensor"
   ]
  },
  {
   "cell_type": "code",
   "execution_count": null,
   "id": "7c2e59a7",
   "metadata": {},
   "outputs": [],
   "source": [
    "class EncoderWrapper(torch.nn.Module):\n",
    "    def __init__(self, module):\n",
    "        super().__init__()\n",
    "        self.module = module\n",
    "    def forward(self, x):\n",
    "        x, _ = self.module(x)\n",
    "        return x\n",
    "\n",
    "class HeadWrapper(torch.nn.Module):\n",
    "    def __init__(self, module):\n",
    "        super().__init__()\n",
    "        self.module = module\n",
    "    def forward(self, x):\n",
    "        x = self.module.classifier(x).mean(1)\n",
    "        return x\n",
    "\n",
    "class ModelWrapper(torch.nn.Module):\n",
    "    def __init__(self, module):\n",
    "        super().__init__()\n",
    "        self.module = module\n",
    "    def forward(self, x):\n",
    "        _, x = self.module(x)\n",
    "        return x"
   ]
  },
  {
   "cell_type": "code",
   "execution_count": null,
   "id": "94fc96ae",
   "metadata": {},
   "outputs": [],
   "source": [
    "def attribute_image_features(algorithm, model, features, label, **kwargs):\n",
    "    model.zero_grad()\n",
    "    tensor_attributions = algorithm.attribute(\n",
    "        features,\n",
    "        target=label, \n",
    "        **kwargs\n",
    "    )\n",
    "    \n",
    "    return tensor_attributions"
   ]
  },
  {
   "cell_type": "markdown",
   "id": "5f619199",
   "metadata": {},
   "source": [
    "### Image"
   ]
  },
  {
   "cell_type": "code",
   "execution_count": null,
   "id": "d4367fb4",
   "metadata": {},
   "outputs": [],
   "source": [
    "from torchvision import datasets, transforms\n",
    "\n",
    "transform = transforms.Compose([\n",
    "    transforms.ToTensor(), \n",
    "    transforms.Normalize((0.4914, 0.4822, 0.4465), (0.2023, 0.1994, 0.2010))\n",
    "])\n",
    "valid_dataset = datasets.CIFAR10(os.getcwd(), train=False, download=True, transform=transform)"
   ]
  },
  {
   "cell_type": "code",
   "execution_count": null,
   "id": "e4c070c9",
   "metadata": {},
   "outputs": [],
   "source": [
    "features, label = valid_dataset[10]\n",
    "\n",
    "features = torch.tensor(features).unsqueeze(0)\n",
    "features.requires_grad = True\n",
    "\n",
    "label = torch.tensor(label).unsqueeze(0)"
   ]
  },
  {
   "cell_type": "code",
   "execution_count": null,
   "id": "2a101811",
   "metadata": {},
   "outputs": [],
   "source": [
    "plt.imshow(\n",
    "    unnormalize(\n",
    "        features[0].detach(), \n",
    "        (0.4914, 0.4822, 0.4465), \n",
    "        (0.2023, 0.1994, 0.2010)\n",
    "    ).permute(1, 2, 0)\n",
    ")"
   ]
  },
  {
   "cell_type": "code",
   "execution_count": null,
   "id": "1922a558",
   "metadata": {},
   "outputs": [],
   "source": [
    "from introspection.modules import resnet9\n",
    "\n",
    "logdir = \"../logs/.../\"\n",
    "checkpoint = utils.load_checkpoint(f\"{logdir}/checkpoints/best.pth\")\n",
    "model = resnet9(in_channels=3, num_classes=10)\n",
    "utils.unpack_checkpoint(checkpoint, model=model)\n",
    "model = ModelWrapper(model)"
   ]
  },
  {
   "cell_type": "code",
   "execution_count": null,
   "id": "2de0e345",
   "metadata": {},
   "outputs": [],
   "source": [
    "saliency = Saliency(model)\n",
    "grads = saliency.attribute(features, target=label.item())\n",
    "# grads = np.transpose(grads.squeeze().cpu().detach().numpy(), (1, 2, 0))"
   ]
  },
  {
   "cell_type": "code",
   "execution_count": null,
   "id": "87b5e46f",
   "metadata": {},
   "outputs": [],
   "source": [
    "ig = IntegratedGradients(model)\n",
    "attr_ig, delta = attribute_image_features(\n",
    "    ig, \n",
    "    model,\n",
    "    features, \n",
    "    label,\n",
    "    baselines=features * 0, \n",
    "    return_convergence_delta=True\n",
    ")\n",
    "# attr_ig = np.transpose(attr_ig.squeeze().cpu().detach().numpy(), (1, 2, 0))\n",
    "print('Approximation delta: ', abs(delta))"
   ]
  },
  {
   "cell_type": "code",
   "execution_count": null,
   "id": "301e779c",
   "metadata": {},
   "outputs": [],
   "source": [
    "ig = IntegratedGradients(model)\n",
    "nt = NoiseTunnel(ig)\n",
    "attr_ig_nt = attribute_image_features(\n",
    "    nt, \n",
    "    model,\n",
    "    features, \n",
    "    label,\n",
    "    baselines=features * 0, \n",
    "    nt_type='smoothgrad_sq',\n",
    "    nt_samples=100, \n",
    "    stdevs=0.2\n",
    ")"
   ]
  },
  {
   "cell_type": "code",
   "execution_count": null,
   "id": "1d680cbd",
   "metadata": {},
   "outputs": [],
   "source": [
    "plt.imshow(\n",
    "    unnormalize(\n",
    "        features[0].detach(), \n",
    "        (0.5, 0.5, 0.5), \n",
    "        (0.5, 0.5, 0.5)\n",
    "    ).permute(1, 2, 0)\n",
    ")"
   ]
  },
  {
   "cell_type": "code",
   "execution_count": null,
   "id": "4fb849e9",
   "metadata": {},
   "outputs": [],
   "source": [
    "# plt.matshow(grads.permute(0, 2, 3, 1).detach().cpu().numpy()[0])\n",
    "\n",
    "default_cmap = LinearSegmentedColormap.from_list(\n",
    "    'custom blue', \n",
    "    [(0, '#ffffff'), (0.25, '#000000'), (1, '#000000')], \n",
    "    N=256\n",
    ")\n",
    "\n",
    "_ = viz.visualize_image_attr(\n",
    "    np.transpose(grads.squeeze().cpu().detach().numpy(), (1,2,0)),\n",
    "    np.transpose(features.squeeze().cpu().detach().numpy(), (1,2,0)),\n",
    "    method='heat_map',\n",
    "    cmap=default_cmap,\n",
    "    show_colorbar=True,\n",
    "    sign='positive',\n",
    "    outlier_perc=1\n",
    ")"
   ]
  },
  {
   "cell_type": "code",
   "execution_count": null,
   "id": "b297ac59",
   "metadata": {},
   "outputs": [],
   "source": [
    "# plt.matshow(attr_ig.permute(0, 2, 3, 1).detach().cpu().numpy()[0])\n",
    "\n",
    "default_cmap = LinearSegmentedColormap.from_list(\n",
    "    'custom blue', \n",
    "    [(0, '#ffffff'), (0.25, '#000000'), (1, '#000000')], \n",
    "    N=256\n",
    ")\n",
    "\n",
    "_ = viz.visualize_image_attr(\n",
    "    np.transpose(attr_ig.squeeze().cpu().detach().numpy(), (1,2,0)),\n",
    "    np.transpose(features.squeeze().cpu().detach().numpy(), (1,2,0)),\n",
    "    method='heat_map',\n",
    "    cmap=default_cmap,\n",
    "    show_colorbar=True,\n",
    "    sign='positive',\n",
    "    outlier_perc=1\n",
    ")"
   ]
  },
  {
   "cell_type": "code",
   "execution_count": null,
   "id": "52793b4d",
   "metadata": {},
   "outputs": [],
   "source": [
    "# plt.matshow(attr_ig_nt.permute(0, 2, 3, 1).detach().cpu().numpy()[0])\n",
    "\n",
    "default_cmap = LinearSegmentedColormap.from_list(\n",
    "    'custom blue', \n",
    "    [(0, '#ffffff'), (0.25, '#000000'), (1, '#000000')], \n",
    "    N=256\n",
    ")\n",
    "\n",
    "_ = viz.visualize_image_attr(\n",
    "    np.transpose(attr_ig_nt.squeeze().cpu().detach().numpy(), (1,2,0)),\n",
    "    np.transpose(features.squeeze().cpu().detach().numpy(), (1,2,0)),\n",
    "    method='heat_map',\n",
    "    cmap=default_cmap,\n",
    "    show_colorbar=True,\n",
    "    sign='positive',\n",
    "    outlier_perc=1\n",
    ")"
   ]
  },
  {
   "cell_type": "markdown",
   "id": "26aed64e",
   "metadata": {},
   "source": [
    "#### Comparison"
   ]
  },
  {
   "cell_type": "code",
   "execution_count": null,
   "id": "7465bde2",
   "metadata": {},
   "outputs": [],
   "source": [
    "fig, axs = plt.subplots(1, 4, figsize=(21, 9))\n",
    "\n",
    "default_cmap = LinearSegmentedColormap.from_list(\n",
    "    'custom blue', \n",
    "    [(0, '#ffffff'), (0.25, '#000000'), (1, '#000000')], \n",
    "    N=256\n",
    ")\n",
    "\n",
    "axs[0].imshow(\n",
    "    unnormalize(\n",
    "        features[0].detach(), \n",
    "        (0.5, 0.5, 0.5), \n",
    "        (0.5, 0.5, 0.5)\n",
    "    ).permute(1, 2, 0)\n",
    ")\n",
    "\n",
    "for i, show_attr in enumerate([grads, attr_ig, attr_ig_nt]):\n",
    "    _ = viz.visualize_image_attr(\n",
    "        np.transpose(show_attr.squeeze().cpu().detach().numpy(), (1,2,0)),\n",
    "        np.transpose(features.squeeze().cpu().detach().numpy(), (1,2,0)),\n",
    "        method='heat_map',\n",
    "        cmap=default_cmap,\n",
    "        show_colorbar=True,\n",
    "        sign='positive',\n",
    "        outlier_perc=1,\n",
    "        plt_fig_axis=(fig, axs[i+1]),\n",
    "        use_pyplot=False,\n",
    "    )\n",
    "\n",
    "plt.show()"
   ]
  },
  {
   "cell_type": "markdown",
   "id": "e970f9e4",
   "metadata": {},
   "source": [
    "### Video"
   ]
  },
  {
   "cell_type": "code",
   "execution_count": null,
   "id": "52f8193d",
   "metadata": {},
   "outputs": [],
   "source": [
    "from introspection.datasets import TemporalDataset\n",
    "from introspection.settings import DATA_ROOT\n",
    "\n",
    "valid_csv = pd.read_csv(\n",
    "    f\"{DATA_ROOT}/UCF11_updated_mpg_clean/valid.csv\",\n",
    "    header=None,\n",
    "    names=[\"path\", \"class\", \"length\"],\n",
    ")\n",
    "\n",
    "num_segments = 1\n",
    "assert num_segments == 1\n",
    "segment_len = 5\n",
    "valid_dataset = TemporalDataset(\n",
    "    valid_csv,\n",
    "    f\"{DATA_ROOT}/UCF11_updated_mpg\",\n",
    "    num_segments=num_segments,\n",
    "    segment_len=segment_len,\n",
    ")"
   ]
  },
  {
   "cell_type": "code",
   "execution_count": null,
   "id": "8826584f",
   "metadata": {},
   "outputs": [],
   "source": [
    "features, label = valid_dataset[0]\n",
    "\n",
    "features = torch.tensor(features).unsqueeze(0)\n",
    "features.requires_grad = True\n",
    "\n",
    "label = torch.tensor(label).unsqueeze(0)"
   ]
  },
  {
   "cell_type": "code",
   "execution_count": null,
   "id": "2c1df464",
   "metadata": {},
   "outputs": [],
   "source": [
    "features.shape"
   ]
  },
  {
   "cell_type": "code",
   "execution_count": null,
   "id": "925ea652",
   "metadata": {},
   "outputs": [],
   "source": [
    "fig, axs = plt.subplots(num_segments, segment_len, figsize=(21, 9))\n",
    "for i in range(num_segments):\n",
    "    for j in range(segment_len):\n",
    "        axs[j].imshow(features[0, i*num_segments+j].detach().permute(1, 2, 0))\n",
    "\n",
    "plt.show()"
   ]
  },
  {
   "cell_type": "code",
   "execution_count": null,
   "id": "e3bb959d",
   "metadata": {},
   "outputs": [],
   "source": [
    "from introspection.modules import TemporalResNet\n",
    "\n",
    "logdir = \"../logs/.../\"\n",
    "checkpoint = utils.load_checkpoint(f\"{logdir}/checkpoints/best.pth\")\n",
    "model = TemporalResNet(emb_features=256, out_features=11)\n",
    "utils.unpack_checkpoint(checkpoint, model=model)\n",
    "model = ModelWrapper(model)"
   ]
  },
  {
   "cell_type": "code",
   "execution_count": null,
   "id": "f1df6e04",
   "metadata": {},
   "outputs": [],
   "source": [
    "saliency = Saliency(model)\n",
    "grads = saliency.attribute(features, target=label.item())\n",
    "# grads = np.transpose(grads.squeeze().cpu().detach().numpy(), (1, 2, 0))"
   ]
  },
  {
   "cell_type": "code",
   "execution_count": null,
   "id": "b8171516",
   "metadata": {},
   "outputs": [],
   "source": [
    "ig = IntegratedGradients(model)\n",
    "attr_ig, delta = attribute_image_features(\n",
    "    ig, \n",
    "    model,\n",
    "    features, \n",
    "    label,\n",
    "    baselines=features * 0, \n",
    "    return_convergence_delta=True\n",
    ")\n",
    "# attr_ig = np.transpose(attr_ig.squeeze().cpu().detach().numpy(), (1, 2, 0))\n",
    "print('Approximation delta: ', abs(delta))"
   ]
  },
  {
   "cell_type": "code",
   "execution_count": null,
   "id": "e49b86c1",
   "metadata": {},
   "outputs": [],
   "source": [
    "ig = IntegratedGradients(model)\n",
    "nt = NoiseTunnel(ig)\n",
    "attr_ig_nt = attribute_image_features(\n",
    "    nt, \n",
    "    model,\n",
    "    features, \n",
    "    label,\n",
    "    baselines=features * 0, \n",
    "    nt_type='smoothgrad_sq',\n",
    "    nt_samples=5, \n",
    "    stdevs=0.2\n",
    ")"
   ]
  },
  {
   "cell_type": "code",
   "execution_count": null,
   "id": "940fdfd1",
   "metadata": {},
   "outputs": [],
   "source": [
    "fig, axs = plt.subplots(num_segments, segment_len, figsize=(21, 9))\n",
    "for i in range(num_segments):\n",
    "    for j in range(segment_len):\n",
    "        axs[j].imshow(features[0, i*num_segments+j].detach().permute(1, 2, 0))\n",
    "\n",
    "plt.show()"
   ]
  },
  {
   "cell_type": "code",
   "execution_count": null,
   "id": "9345b626",
   "metadata": {},
   "outputs": [],
   "source": [
    "# plt.matshow(grads.permute(0, 2, 3, 1).detach().cpu().numpy()[0])\n",
    "fig, axs = plt.subplots(num_segments, segment_len, figsize=(21, 9))\n",
    "\n",
    "default_cmap = LinearSegmentedColormap.from_list(\n",
    "    'custom blue', \n",
    "    [(0, '#ffffff'), (0.25, '#000000'), (1, '#000000')], \n",
    "    N=256\n",
    ")\n",
    "\n",
    "for i in range(num_segments):\n",
    "    for j in range(segment_len):\n",
    "#         axs[i, j].imshow(grads[0, i*num_segments+j].detach().permute(1, 2, 0))\n",
    "        _ = viz.visualize_image_attr(\n",
    "            np.transpose(grads[0, i*num_segments+j].cpu().detach().numpy(), (1,2,0)),\n",
    "            np.transpose(features[0, i*num_segments+j].cpu().detach().numpy(), (1,2,0)),\n",
    "            method='heat_map',\n",
    "            cmap=default_cmap,\n",
    "            show_colorbar=True,\n",
    "            sign='positive',\n",
    "            outlier_perc=1,\n",
    "            plt_fig_axis=(fig, axs[j]),\n",
    "            use_pyplot=False,\n",
    "        )\n",
    "\n",
    "plt.show()"
   ]
  },
  {
   "cell_type": "code",
   "execution_count": null,
   "id": "79ba99ce",
   "metadata": {},
   "outputs": [],
   "source": [
    "# plt.matshow(attr_ig.permute(0, 2, 3, 1).detach().cpu().numpy()[0])\n",
    "fig, axs = plt.subplots(num_segments, segment_len, figsize=(21, 9))\n",
    "\n",
    "default_cmap = LinearSegmentedColormap.from_list(\n",
    "    'custom blue', \n",
    "    [(0, '#ffffff'), (0.25, '#000000'), (1, '#000000')], \n",
    "    N=256\n",
    ")\n",
    "\n",
    "for i in range(num_segments):\n",
    "    for j in range(segment_len):\n",
    "#         axs[i, j].imshow(attr_ig[0, i*num_segments+j].detach().permute(1, 2, 0))\n",
    "        _ = viz.visualize_image_attr(\n",
    "            np.transpose(attr_ig[0, i*num_segments+j].cpu().detach().numpy(), (1,2,0)),\n",
    "            np.transpose(features[0, i*num_segments+j].cpu().detach().numpy(), (1,2,0)),\n",
    "            method='heat_map',\n",
    "            cmap=default_cmap,\n",
    "            show_colorbar=True,\n",
    "            sign='positive',\n",
    "            outlier_perc=1,\n",
    "            plt_fig_axis=(fig, axs[j]),\n",
    "            use_pyplot=False,\n",
    "        )\n",
    "\n",
    "plt.show()"
   ]
  },
  {
   "cell_type": "code",
   "execution_count": null,
   "id": "543c5f27",
   "metadata": {},
   "outputs": [],
   "source": [
    "fig, axs = plt.subplots(num_segments, segment_len, figsize=(21, 9))\n",
    "\n",
    "default_cmap = LinearSegmentedColormap.from_list(\n",
    "    'custom blue', \n",
    "    [(0, '#ffffff'), (0.25, '#000000'), (1, '#000000')], \n",
    "    N=256\n",
    ")\n",
    "\n",
    "for i in range(num_segments):\n",
    "    for j in range(segment_len):\n",
    "        _ = viz.visualize_image_attr(\n",
    "            np.transpose(attr_ig_nt[0, i*num_segments+j].cpu().detach().numpy(), (1,2,0)),\n",
    "            np.transpose(features[0, i*num_segments+j].cpu().detach().numpy(), (1,2,0)),\n",
    "            method='heat_map',\n",
    "            cmap=default_cmap,\n",
    "            show_colorbar=True,\n",
    "            sign='positive',\n",
    "            outlier_perc=1,\n",
    "            plt_fig_axis=(fig, axs[j]),\n",
    "            use_pyplot=False,\n",
    "        )\n",
    "\n",
    "plt.show()"
   ]
  },
  {
   "cell_type": "markdown",
   "id": "1eb67969",
   "metadata": {},
   "source": [
    "#### Comparison"
   ]
  },
  {
   "cell_type": "code",
   "execution_count": null,
   "id": "be4e9007",
   "metadata": {},
   "outputs": [],
   "source": [
    "fig, axs = plt.subplots(4, segment_len, figsize=(21, 9))\n",
    "\n",
    "default_cmap = LinearSegmentedColormap.from_list(\n",
    "    'custom blue', \n",
    "    [(0, '#ffffff'), (0.25, '#000000'), (1, '#000000')], \n",
    "    N=256\n",
    ")\n",
    "\n",
    "for j in range(segment_len):\n",
    "    axs[0, j].imshow(features[0, j].detach().permute(1, 2, 0))\n",
    "\n",
    "for i, show_attr in enumerate([grads, attr_ig, attr_ig_nt]):\n",
    "    for j in range(segment_len):\n",
    "        _ = viz.visualize_image_attr(\n",
    "            np.transpose(show_attr[0, j].cpu().detach().numpy(), (1,2,0)),\n",
    "            np.transpose(features[0, j].cpu().detach().numpy(), (1,2,0)),\n",
    "            method='heat_map',\n",
    "            cmap=default_cmap,\n",
    "            show_colorbar=True,\n",
    "            sign='positive',\n",
    "            outlier_perc=1,\n",
    "            plt_fig_axis=(fig, axs[i+1, j]),\n",
    "            use_pyplot=False,\n",
    "        )\n",
    "\n",
    "plt.show()"
   ]
  },
  {
   "cell_type": "markdown",
   "id": "145800f7",
   "metadata": {},
   "source": [
    "### Video-features"
   ]
  },
  {
   "cell_type": "code",
   "execution_count": null,
   "id": "b93ed582",
   "metadata": {},
   "outputs": [],
   "source": [
    "from introspection.datasets import TemporalDataset\n",
    "from introspection.settings import DATA_ROOT\n",
    "\n",
    "valid_csv = pd.read_csv(\n",
    "    f\"{DATA_ROOT}/UCF11_updated_mpg_clean/valid.csv\",\n",
    "    header=None,\n",
    "    names=[\"path\", \"class\", \"length\"],\n",
    ")\n",
    "\n",
    "valid_dataset = TemporalDataset(\n",
    "    valid_csv,\n",
    "    f\"{DATA_ROOT}/UCF11_updated_mpg\",\n",
    "    num_segments=None,\n",
    "    segment_len=None,\n",
    ")"
   ]
  },
  {
   "cell_type": "code",
   "execution_count": null,
   "id": "9cc75c0f",
   "metadata": {},
   "outputs": [],
   "source": [
    "features, label = valid_dataset[0]\n",
    "\n",
    "features = torch.tensor(features).unsqueeze(0)\n",
    "features.requires_grad = True\n",
    "\n",
    "label = torch.tensor(label).unsqueeze(0)"
   ]
  },
  {
   "cell_type": "code",
   "execution_count": null,
   "id": "d4a947dc",
   "metadata": {},
   "outputs": [],
   "source": [
    "features.shape"
   ]
  },
  {
   "cell_type": "code",
   "execution_count": null,
   "id": "76483b0c",
   "metadata": {},
   "outputs": [],
   "source": [
    "from introspection.modules import TemporalResNet\n",
    "\n",
    "logdir = \"../logs/.../\"\n",
    "checkpoint = utils.load_checkpoint(f\"{logdir}/checkpoints/best.pth\")\n",
    "model = TemporalResNet(emb_features=256, out_features=11)\n",
    "utils.unpack_checkpoint(checkpoint, model=model)\n",
    "\n",
    "encoder = EncoderWrapper(model)\n",
    "head = HeadWrapper(model)\n",
    "model = ModelWrapper(model)"
   ]
  },
  {
   "cell_type": "code",
   "execution_count": null,
   "id": "f1012632",
   "metadata": {},
   "outputs": [],
   "source": [
    "features2 = encoder(features)"
   ]
  },
  {
   "cell_type": "code",
   "execution_count": null,
   "id": "b1666bd1",
   "metadata": {},
   "outputs": [],
   "source": [
    "features2.shape"
   ]
  },
  {
   "cell_type": "code",
   "execution_count": null,
   "id": "d1c47d09",
   "metadata": {},
   "outputs": [],
   "source": [
    "saliency = Saliency(head)\n",
    "grads = saliency.attribute(features2, target=label.item())\n",
    "# grads = np.transpose(grads.squeeze().cpu().detach().numpy(), (1, 2, 0))"
   ]
  },
  {
   "cell_type": "code",
   "execution_count": null,
   "id": "11c4e4bb",
   "metadata": {},
   "outputs": [],
   "source": [
    "ig = IntegratedGradients(head)\n",
    "attr_ig, delta = attribute_image_features(\n",
    "    ig, \n",
    "    head,\n",
    "    features2, \n",
    "    label,\n",
    "    baselines=features2 * 0, \n",
    "    return_convergence_delta=True\n",
    ")\n",
    "# attr_ig = np.transpose(attr_ig.squeeze().cpu().detach().numpy(), (1, 2, 0))\n",
    "print('Approximation delta: ', abs(delta))"
   ]
  },
  {
   "cell_type": "code",
   "execution_count": null,
   "id": "afc9a26c",
   "metadata": {},
   "outputs": [],
   "source": [
    "ig = IntegratedGradients(head)\n",
    "nt = NoiseTunnel(ig)\n",
    "attr_ig_nt = attribute_image_features(\n",
    "    nt, \n",
    "    head,\n",
    "    features2, \n",
    "    label,\n",
    "    baselines=features2 * 0, \n",
    "    nt_type='smoothgrad_sq',\n",
    "    nt_samples=5, \n",
    "    stdevs=0.2\n",
    ")"
   ]
  },
  {
   "cell_type": "code",
   "execution_count": null,
   "id": "425109c3",
   "metadata": {},
   "outputs": [],
   "source": [
    "# plt.matshow(grads.permute(0, 2, 3, 1).detach().cpu().numpy()[0])\n",
    "fig, axs = plt.subplots(1, 1, figsize=(21, 9))\n",
    "\n",
    "default_cmap = LinearSegmentedColormap.from_list(\n",
    "    'custom blue', \n",
    "    [(0, '#ffffff'), (0.25, '#000000'), (1, '#000000')], \n",
    "    N=256\n",
    ")\n",
    "\n",
    "# transpose to [num_features; time_len; 1]\n",
    "_ = viz.visualize_image_attr(\n",
    "    np.transpose(grads.cpu().detach().numpy(), (2,1,0)),\n",
    "    np.transpose(features2.cpu().detach().numpy(), (2,1,0)),  \n",
    "    method='heat_map',\n",
    "    cmap=default_cmap,\n",
    "    show_colorbar=True,\n",
    "    sign='positive',\n",
    "    outlier_perc=1,\n",
    "    plt_fig_axis=(fig, axs),\n",
    "    use_pyplot=False,\n",
    ")\n",
    "\n",
    "plt.show()"
   ]
  },
  {
   "cell_type": "code",
   "execution_count": null,
   "id": "fa016139",
   "metadata": {},
   "outputs": [],
   "source": [
    "# plt.matshow(attr_ig.permute(0, 2, 3, 1).detach().cpu().numpy()[0])\n",
    "fig, axs = plt.subplots(1, 1, figsize=(21, 9))\n",
    "\n",
    "default_cmap = LinearSegmentedColormap.from_list(\n",
    "    'custom blue', \n",
    "    [(0, '#ffffff'), (0.25, '#000000'), (1, '#000000')], \n",
    "    N=256\n",
    ")\n",
    "\n",
    "_ = viz.visualize_image_attr(\n",
    "    np.transpose(attr_ig.cpu().detach().numpy(), (2,1,0)),\n",
    "    np.transpose(features2.cpu().detach().numpy(), (2,1,0)),\n",
    "    method='heat_map',\n",
    "    cmap=default_cmap,\n",
    "    show_colorbar=True,\n",
    "    sign='positive',\n",
    "    outlier_perc=1,\n",
    "    plt_fig_axis=(fig, axs),\n",
    "    use_pyplot=False,\n",
    ")\n",
    "\n",
    "plt.show()"
   ]
  },
  {
   "cell_type": "code",
   "execution_count": null,
   "id": "b4ed3211",
   "metadata": {},
   "outputs": [],
   "source": [
    "fig, axs = plt.subplots(1, 1, figsize=(21, 9))\n",
    "\n",
    "default_cmap = LinearSegmentedColormap.from_list(\n",
    "    'custom blue', \n",
    "    [(0, '#ffffff'), (0.25, '#000000'), (1, '#000000')], \n",
    "    N=256\n",
    ")\n",
    "\n",
    "_ = viz.visualize_image_attr(\n",
    "    np.transpose(attr_ig_nt.cpu().detach().numpy(), (2,1,0)),\n",
    "    np.transpose(features2.cpu().detach().numpy(), (2,1,0)),\n",
    "    method='heat_map',\n",
    "    cmap=default_cmap,\n",
    "    show_colorbar=True,\n",
    "    sign='positive',\n",
    "    outlier_perc=1,\n",
    "    plt_fig_axis=(fig, axs),\n",
    "    use_pyplot=False,\n",
    ")\n",
    "\n",
    "plt.show()"
   ]
  },
  {
   "cell_type": "markdown",
   "id": "b08c7409",
   "metadata": {},
   "source": [
    "#### TopK video-features"
   ]
  },
  {
   "cell_type": "code",
   "execution_count": null,
   "id": "abcc3ddc",
   "metadata": {},
   "outputs": [],
   "source": [
    "# [num_features; time_len; 1]\n",
    "# -> [num_features; time_len;]\n",
    "# -> [num_features;]\n",
    "# -> softmax\n",
    "# aka feature attention\n",
    "attn_feat = attr_ig.permute((2, 1, 0)).squeeze(-1).sum(-1).softmax(-1)"
   ]
  },
  {
   "cell_type": "code",
   "execution_count": null,
   "id": "f4d770b8",
   "metadata": {},
   "outputs": [],
   "source": [
    "# [num_features; time_len; 1]\n",
    "# -> [num_features; time_len;]\n",
    "# -> [time_len;]\n",
    "# -> softmax\n",
    "# aka time attention\n",
    "attn_time = attr_ig.permute((2, 1, 0)).squeeze(-1).sum(0).softmax(-1)"
   ]
  },
  {
   "cell_type": "code",
   "execution_count": null,
   "id": "e40319bd",
   "metadata": {},
   "outputs": [],
   "source": [
    "num_segments = 1\n",
    "segment_len = 5\n",
    "topk_attn_time = attn_time.topk(segment_len).indices"
   ]
  },
  {
   "cell_type": "code",
   "execution_count": null,
   "id": "e67136f1",
   "metadata": {},
   "outputs": [],
   "source": [
    "features3 = features[:, topk_attn_time, :, :, :]"
   ]
  },
  {
   "cell_type": "code",
   "execution_count": null,
   "id": "de941650",
   "metadata": {},
   "outputs": [],
   "source": [
    "features3.shape"
   ]
  },
  {
   "cell_type": "code",
   "execution_count": null,
   "id": "76bf6229",
   "metadata": {},
   "outputs": [],
   "source": [
    "fig, axs = plt.subplots(num_segments, segment_len, figsize=(21, 9))\n",
    "for i in range(num_segments):\n",
    "    for j in range(segment_len):\n",
    "        axs[j].imshow(features3[0, i*num_segments+j].detach().permute(1, 2, 0))\n",
    "\n",
    "plt.show()"
   ]
  },
  {
   "cell_type": "code",
   "execution_count": null,
   "id": "edbf99c1",
   "metadata": {},
   "outputs": [],
   "source": [
    "saliency = Saliency(model)\n",
    "grads = saliency.attribute(features3, target=label.item())\n",
    "# grads = np.transpose(grads.squeeze().cpu().detach().numpy(), (1, 2, 0))"
   ]
  },
  {
   "cell_type": "code",
   "execution_count": null,
   "id": "fa07853a",
   "metadata": {},
   "outputs": [],
   "source": [
    "ig = IntegratedGradients(model)\n",
    "attr_ig, delta = attribute_image_features(\n",
    "    ig, \n",
    "    model,\n",
    "    features3, \n",
    "    label,\n",
    "    baselines=features3 * 0, \n",
    "    return_convergence_delta=True\n",
    ")\n",
    "# attr_ig = np.transpose(attr_ig.squeeze().cpu().detach().numpy(), (1, 2, 0))\n",
    "print('Approximation delta: ', abs(delta))"
   ]
  },
  {
   "cell_type": "code",
   "execution_count": null,
   "id": "96d2c55f",
   "metadata": {},
   "outputs": [],
   "source": [
    "ig = IntegratedGradients(model)\n",
    "nt = NoiseTunnel(ig)\n",
    "attr_ig_nt = attribute_image_features(\n",
    "    nt, \n",
    "    model,\n",
    "    features3, \n",
    "    label,\n",
    "    baselines=features3 * 0, \n",
    "    nt_type='smoothgrad_sq',\n",
    "    nt_samples=5, \n",
    "    stdevs=0.2\n",
    ")"
   ]
  },
  {
   "cell_type": "code",
   "execution_count": null,
   "id": "0c7c5dac",
   "metadata": {},
   "outputs": [],
   "source": [
    "fig, axs = plt.subplots(4, segment_len, figsize=(21, 9))\n",
    "\n",
    "default_cmap = LinearSegmentedColormap.from_list(\n",
    "    'custom blue', \n",
    "    [(0, '#ffffff'), (0.25, '#000000'), (1, '#000000')], \n",
    "    N=256\n",
    ")\n",
    "\n",
    "for j in range(segment_len):\n",
    "    axs[0, j].imshow(features3[0, j].detach().permute(1, 2, 0))\n",
    "\n",
    "for i, show_attr in enumerate([grads, attr_ig, attr_ig_nt]):\n",
    "    for j in range(segment_len):\n",
    "        _ = viz.visualize_image_attr(\n",
    "            np.transpose(show_attr[0, j].cpu().detach().numpy(), (1,2,0)),\n",
    "            np.transpose(features3[0, j].cpu().detach().numpy(), (1,2,0)),\n",
    "            method='heat_map',\n",
    "            cmap=default_cmap,\n",
    "            show_colorbar=True,\n",
    "            sign='positive',\n",
    "            outlier_perc=1,\n",
    "            plt_fig_axis=(fig, axs[i+1, j]),\n",
    "            use_pyplot=False,\n",
    "        )\n",
    "\n",
    "plt.show()"
   ]
  },
  {
   "cell_type": "markdown",
   "id": "4f8d4cff",
   "metadata": {},
   "source": [
    "----\n",
    "\n",
    "## TS-based"
   ]
  },
  {
   "cell_type": "code",
   "execution_count": 6,
   "id": "6dece95e",
   "metadata": {},
   "outputs": [],
   "source": [
    "from src.settings import DATA_ROOT, LOGS_ROOT\n",
    "from src.ts import load_ABIDE1"
   ]
  },
  {
   "cell_type": "code",
   "execution_count": 7,
   "id": "11699e73",
   "metadata": {},
   "outputs": [],
   "source": [
    "features, labels = load_ABIDE1()\n",
    "features = np.swapaxes(features, 1, 2)  # [n_samples; seq_len; n_features]"
   ]
  },
  {
   "cell_type": "code",
   "execution_count": 8,
   "id": "be73cdb2",
   "metadata": {},
   "outputs": [
    {
     "name": "stdout",
     "output_type": "stream",
     "text": [
      "torch.Size([569, 140, 53])\n"
     ]
    }
   ],
   "source": [
    "# one-sample\n",
    "# feature = features[5].astype(np.float32)\n",
    "# feature = torch.tensor(feature).unsqueeze(0)\n",
    "# feature.requires_grad = True\n",
    "# all\n",
    "feature = features.astype(np.float32)\n",
    "feature = torch.tensor(feature)\n",
    "feature.requires_grad = True\n",
    "\n",
    "print(feature.shape)\n"
   ]
  },
  {
   "cell_type": "code",
   "execution_count": null,
   "id": "17663425",
   "metadata": {},
   "outputs": [],
   "source": [
    "from src.scripts.tune_ts_mlp import MLP\n",
    "# AUC: 0.7030812324929973\n",
    "model = MLP(\n",
    "    input_size=53, \n",
    "    output_size=2,\n",
    "    hidden_size=75, \n",
    "    num_layers=1, \n",
    "    dropout=0.30508830411407517,\n",
    ")\n",
    "logdir = LOGS_ROOT.joinpath(\"0002/model.best.pth\")\n",
    "checkpoint = torch.load(logdir, map_location=lambda storage, loc: storage)\n",
    "# print(checkpoint)\n",
    "model.load_state_dict(checkpoint)\n",
    "model = model.eval()\n",
    "# ATTENTION: captum model should have [bs; ...] inputs and [bs; ...] outputs\n",
    "# output = torch.sigmoid(model(feature))"
   ]
  },
  {
   "cell_type": "code",
   "execution_count": null,
   "id": "9de9245f",
   "metadata": {},
   "outputs": [],
   "source": [
    "# from src.scripts.tune_ts_lstm import LSTM\n",
    "# # AUC: 0.60286336756925\n",
    "# model = LSTM(\n",
    "#     input_size=53, \n",
    "#     hidden_size=97,\n",
    "#     bidirectional=True,\n",
    "#     num_layers=2,\n",
    "#     fc_dropout=0.10739340844527928,\n",
    "# )\n",
    "# logdir = LOGS_ROOT.joinpath(\"220421.175503-ts-lstm-qFalse/0009/model.best.pth\")\n",
    "# checkpoint = torch.load(logdir, map_location=lambda storage, loc: storage)\n",
    "# model.load_state_dict(checkpoint)\n",
    "# # # ATTENTION: captum model should have [bs; ...] inputs and [bs; ...] outputs\n",
    "# # output = torch.sigmoid(model(feature))"
   ]
  },
  {
   "cell_type": "code",
   "execution_count": null,
   "id": "24d2a444",
   "metadata": {},
   "outputs": [],
   "source": [
    "# from src.scripts.tune_ts_transformer import Transformer\n",
    "# # AUC: \n",
    "# model = Transformer(\n",
    "#     input_size=53, \n",
    "#     hidden_size=6 * 2, \n",
    "#     num_heads=2, \n",
    "#     num_layers=3, \n",
    "#     fc_dropout=0.3367242991440482,\n",
    "# )\n",
    "# logdir = LOGS_ROOT.joinpath(\"220417.103843-ts-transformer-qFalse/0005/model.best.pth\")\n",
    "# checkpoint = torch.load(logdir, map_location=lambda storage, loc: storage)\n",
    "# model.load_state_dict(checkpoint)\n",
    "# # ATTENTION: captum model should have [bs; ...] inputs and [bs; ...] outputs\n",
    "# # output = torch.sigmoid(model(feature))"
   ]
  },
  {
   "cell_type": "code",
   "execution_count": 17,
   "id": "c662a2f2",
   "metadata": {},
   "outputs": [
    {
     "name": "stdout",
     "output_type": "stream",
     "text": [
      "<captum.attr._core.saliency.Saliency object at 0x12abdb510>\n"
     ]
    }
   ],
   "source": [
    "saliency = Saliency(model)\n",
    "print(saliency)"
   ]
  },
  {
   "cell_type": "code",
   "execution_count": 10,
   "id": "dc0617f6",
   "metadata": {},
   "outputs": [
    {
     "data": {
      "image/png": "[encoded data removed]",
      "text/plain": [
       "<Figure size 1512x648 with 2 Axes>"
      ]
     },
     "metadata": {},
     "output_type": "display_data"
    },
    {
     "data": {
      "image/png": "[encoded data removed]",
      "text/plain": [
       "<Figure size 1512x648 with 2 Axes>"
      ]
     },
     "metadata": {},
     "output_type": "display_data"
    }
   ],
   "source": [
    "saliency = Saliency(model)\n",
    "\n",
    "\n",
    "model.zero_grad()\n",
    "grads0 = saliency.attribute(feature, target=0)\n",
    "fig, axs = plt.subplots(1, 1, figsize=(21, 9))\n",
    "# transpose to [num_features; time_len; 1]\n",
    "_ = viz.visualize_image_attr(\n",
    "    np.transpose(grads0.cpu().detach().numpy(), (2,1,0)),\n",
    "    np.transpose(feature.cpu().detach().numpy(), (2,1,0)),  \n",
    "    method='heat_map',\n",
    "    # cmap=default_cmap,\n",
    "    show_colorbar=True,\n",
    "    # sign='negative',\n",
    "    # outlier_perc=1,\n",
    "    plt_fig_axis=(fig, axs),\n",
    "    use_pyplot=False,\n",
    ")\n",
    "plt.show()\n",
    "plt.close()\n",
    "\n",
    "\n",
    "model.zero_grad()\n",
    "grads1 = saliency.attribute(feature, target=1)\n",
    "fig, axs = plt.subplots(1, 1, figsize=(21, 9))\n",
    "# transpose to [num_features; time_len; 1]\n",
    "_ = viz.visualize_image_attr(\n",
    "    np.transpose(grads1.cpu().detach().numpy(), (2,1,0)),\n",
    "    np.transpose(feature.cpu().detach().numpy(), (2,1,0)),  \n",
    "    method='heat_map',\n",
    "    # cmap=default_cmap,\n",
    "    show_colorbar=True,\n",
    "    # sign='positive',\n",
    "    # outlier_perc=1,\n",
    "    plt_fig_axis=(fig, axs),\n",
    "    use_pyplot=False,\n",
    ")\n",
    "plt.show()\n",
    "plt.close()"
   ]
  },
  {
   "cell_type": "code",
   "execution_count": 11,
   "id": "e81d99a3",
   "metadata": {},
   "outputs": [
    {
     "name": "stdout",
     "output_type": "stream",
     "text": [
      "Approximation delta:  tensor([1.8682e-01, 5.8389e-02, 3.9922e-01, 3.2490e-01, 1.0431e+00, 2.4755e-01,\n",
      "        1.0133e-01, 1.3554e-01, 1.2831e-02, 2.4220e-01, 9.3750e-02, 5.8826e-01,\n",
      "        1.2293e-01, 4.5787e-01, 3.3134e-01, 2.3495e-01, 2.9228e-01, 4.7438e-02,\n",
      "        1.8281e-01, 1.7585e-01, 4.2856e-02, 5.3347e-02, 2.1468e-01, 1.8127e-01,\n",
      "        1.3148e-01, 3.6978e-02, 6.2519e-02, 2.3353e-01, 3.6763e-01, 4.3891e-01,\n",
      "        1.8704e-01, 1.1825e-01, 1.9595e-01, 5.8880e-02, 9.9800e-02, 8.3272e-01,\n",
      "        1.1489e-01, 1.0411e-01, 5.1210e-01, 2.0291e-01, 2.0544e-01, 1.9659e-01,\n",
      "        1.8201e-02, 4.1439e-01, 7.5455e-02, 2.8172e-01, 1.8158e-01, 1.7915e-01,\n",
      "        1.9340e-01, 2.0908e-01, 2.2184e-01, 3.3993e-01, 8.0880e-02, 3.0729e-01,\n",
      "        1.8166e-01, 2.2711e-01, 2.6490e-01, 4.7086e-01, 4.3648e-02, 1.2070e-01,\n",
      "        1.4349e-01, 2.4137e-01, 3.1850e-01, 4.0479e-01, 2.8031e-01, 3.7296e-02,\n",
      "        3.8804e-01, 5.4997e-02, 1.0185e-01, 3.2363e-02, 1.8635e-01, 9.8930e-02,\n",
      "        2.3319e-02, 4.8315e-02, 2.4422e-02, 6.6726e-02, 2.6364e-01, 1.3401e-01,\n",
      "        1.7257e-01, 5.6019e-01, 7.5777e-02, 2.3395e-01, 3.7021e-02, 2.4248e-01,\n",
      "        6.8113e-03, 6.1343e-02, 1.6916e-01, 1.4148e-02, 9.2497e-03, 3.2210e-01,\n",
      "        1.4858e-01, 4.2055e-01, 2.0421e-01, 4.3967e-01, 1.2282e-01, 6.6610e-02,\n",
      "        3.9765e-02, 6.1417e-03, 9.2549e-02, 1.4233e-01, 2.8072e-01, 8.5714e-02,\n",
      "        1.3079e-01, 1.8142e-02, 2.4216e-01, 5.4458e-01, 3.7723e-01, 3.2146e-01,\n",
      "        2.6458e-01, 4.8142e-01, 1.2294e-01, 1.3830e-02, 8.5310e-02, 1.7608e-01,\n",
      "        1.6727e-01, 3.2974e-01, 5.4911e-01, 4.0720e-01, 8.7597e-02, 1.8753e-01,\n",
      "        2.8991e-01, 6.3374e-02, 4.0045e-01, 7.4521e-03, 1.9829e-01, 3.3672e-01,\n",
      "        4.7087e-01, 3.5963e-01, 4.3274e-01, 2.5361e-02, 2.4569e-01, 1.3698e-01,\n",
      "        5.7391e-01, 3.9655e-01, 2.1830e-01, 2.5767e-01, 3.6888e-01, 2.0874e-01,\n",
      "        2.2393e-02, 2.2554e-01, 4.0891e-01, 1.4114e-01, 1.6655e-02, 3.9891e-01,\n",
      "        5.0004e-02, 1.7413e-01, 2.1140e-01, 8.1557e-02, 2.4829e-01, 9.4504e-03,\n",
      "        9.7188e-02, 3.2050e-01, 5.5454e-02, 2.2548e-01, 1.0155e-01, 5.8868e-01,\n",
      "        1.0580e-01, 2.6653e-02, 5.1532e-01, 3.7568e-02, 3.2294e-01, 3.7388e-01,\n",
      "        1.6291e-02, 4.2240e-01, 2.1359e-02, 3.2316e-01, 4.7267e-01, 2.5690e-01,\n",
      "        2.8027e-02, 4.4317e-01, 9.9519e-02, 2.0374e-01, 2.3167e-01, 4.9543e-01,\n",
      "        3.9582e-01, 7.0309e-02, 1.1612e-02, 2.8391e-01, 2.6927e-01, 2.9673e-01,\n",
      "        2.9526e-01, 2.6526e-02, 2.6883e-01, 3.4069e-01, 7.4017e-02, 4.0602e-02,\n",
      "        1.3031e-01, 2.5271e-01, 3.1836e-01, 2.7303e-01, 6.3289e-01, 1.9679e-01,\n",
      "        1.0526e-01, 2.9184e-01, 7.2249e-02, 1.2777e-01, 1.9232e-01, 2.0556e-01,\n",
      "        9.6677e-02, 2.7208e-01, 4.9900e-02, 1.1900e-01, 1.7920e-01, 1.6200e-02,\n",
      "        2.0273e-01, 6.3718e-02, 1.4935e-01, 3.8398e-01, 8.2227e-01, 2.8106e-01,\n",
      "        4.0510e-01, 3.9503e-03, 3.6438e-01, 2.4585e-01, 1.0166e-01, 9.6089e-02,\n",
      "        7.1488e-02, 1.0026e-02, 1.3896e-01, 4.1390e-01, 2.7706e-01, 1.9271e-01,\n",
      "        5.2451e-02, 4.7810e-02, 1.2668e-01, 4.6639e-01, 1.4250e-01, 3.9020e-01,\n",
      "        4.3678e-01, 1.1630e-01, 8.9795e-03, 9.2313e-02, 3.5603e-01, 3.3050e-01,\n",
      "        5.5140e-02, 1.3041e-01, 2.4695e-01, 2.9283e-01, 4.7028e-01, 1.3311e-01,\n",
      "        8.4169e-02, 3.0842e-02, 6.1513e-01, 9.4099e-02, 5.6778e-01, 4.5122e-01,\n",
      "        1.2018e-01, 8.7441e-02, 4.6446e-02, 2.1840e-01, 2.7743e-01, 2.1189e-01,\n",
      "        5.5223e-01, 3.1605e-01, 1.1557e-01, 5.3952e-02, 2.6567e-01, 6.0669e-02,\n",
      "        3.0440e-01, 1.0294e-01, 1.0192e-01, 8.7866e-02, 5.5706e-02, 7.6162e-02,\n",
      "        1.2874e-02, 1.5710e-01, 2.1601e-01, 1.8037e-02, 1.3116e-01, 3.7372e-01,\n",
      "        2.7889e-02, 9.8360e-02, 8.3061e-02, 1.8085e-01, 2.1890e-01, 4.7783e-02,\n",
      "        2.1074e-01, 5.9035e-01, 3.9612e-01, 1.9281e-01, 4.1964e-02, 4.0528e-01,\n",
      "        1.0710e-01, 1.7109e-02, 2.1045e-01, 6.8106e-02, 3.3906e-01, 4.5150e-02,\n",
      "        3.9389e-03, 2.5841e-01, 1.5389e-01, 2.5114e-01, 3.6780e-01, 6.7824e-02,\n",
      "        2.2317e-01, 2.0596e-01, 1.1031e-01, 6.8610e-03, 1.0903e-01, 2.3262e-02,\n",
      "        1.0175e-02, 3.5975e-01, 2.8947e-01, 3.5212e-01, 1.1743e-01, 1.7552e-01,\n",
      "        7.4438e-02, 7.7991e-03, 4.4724e-02, 1.4158e-01, 1.5358e-01, 1.6136e-01,\n",
      "        8.2264e-02, 9.8979e-02, 6.3059e-02, 2.6475e-02, 3.1875e-01, 1.0589e-01,\n",
      "        9.0060e-02, 2.8498e-01, 1.8390e-02, 4.1861e-02, 1.0371e-01, 2.5677e-01,\n",
      "        5.0336e-02, 2.4019e-02, 1.3914e-01, 3.2648e-01, 2.4936e-01, 3.4444e-01,\n",
      "        7.5426e-02, 1.5980e-01, 1.3595e-01, 2.2144e-02, 2.8446e-02, 1.0748e-01,\n",
      "        4.4954e-01, 6.4612e-01, 1.0758e-01, 6.0746e-02, 2.6541e-01, 6.4316e-02,\n",
      "        2.2080e-01, 1.9851e-01, 4.2313e-02, 1.3278e-01, 2.4443e-01, 4.2298e-02,\n",
      "        1.3693e-03, 5.1233e-03, 7.9413e-02, 1.7823e-01, 1.0705e-01, 2.4693e-01,\n",
      "        4.6759e-01, 2.3639e-01, 1.2954e-01, 3.7792e-01, 2.8643e-01, 6.5259e-02,\n",
      "        1.0620e-01, 1.0259e-01, 3.8476e-01, 8.1921e-02, 4.9852e-01, 7.6252e-01,\n",
      "        1.3116e-01, 2.0155e-01, 3.4340e-01, 1.5978e-01, 2.8231e-02, 4.7025e-01,\n",
      "        1.8623e-01, 1.4722e-01, 4.9338e-01, 1.2556e-01, 8.0312e-02, 1.2370e-01,\n",
      "        1.7285e-01, 5.1047e-01, 3.6815e-02, 1.4895e-01, 3.3963e-01, 6.3417e-01,\n",
      "        5.9913e-02, 2.2712e-01, 3.6045e-01, 8.2715e-02, 9.8602e-02, 1.8351e-01,\n",
      "        1.6016e-02, 3.9261e-01, 4.8784e-01, 1.2983e-02, 1.8673e-01, 6.5903e-01,\n",
      "        2.3016e-02, 4.7236e-01, 5.5312e-01, 1.1728e-01, 9.7141e-03, 1.4238e-01,\n",
      "        3.1353e-01, 1.0032e-01, 2.8692e-01, 6.7974e-01, 1.8035e-01, 2.4859e-01,\n",
      "        3.9395e-01, 4.8549e-01, 3.9246e-01, 5.2647e-01, 1.1425e-01, 1.9454e-04,\n",
      "        3.4289e-01, 6.6353e-01, 3.3483e-01, 1.0544e-01, 2.3300e-01, 3.9123e-01,\n",
      "        7.1729e-02, 2.9799e-01, 1.0579e-01, 9.6506e-02, 2.3001e-01, 4.5999e-01,\n",
      "        2.3003e-01, 1.6152e-01, 6.9685e-02, 4.2526e-01, 8.0938e-02, 6.6935e-02,\n",
      "        2.3738e-01, 4.7714e-01, 8.1062e-02, 5.0784e-01, 1.5547e-01, 1.9082e-01,\n",
      "        4.2738e-01, 2.3128e-01, 4.5089e-02, 7.1383e-02, 1.7899e-01, 1.5915e-01,\n",
      "        4.8135e-01, 1.6391e-01, 1.8699e-01, 1.9453e-02, 3.0916e-01, 7.4194e-02,\n",
      "        2.8753e-01, 2.4028e-01, 2.3475e-01, 1.3049e-01, 1.8955e-01, 5.2206e-01,\n",
      "        1.6648e-01, 3.2194e-01, 3.1356e-01, 3.5052e-01, 2.9587e-01, 4.9469e-02,\n",
      "        8.5253e-01, 3.5009e-01, 1.9504e-01, 4.5229e-01, 2.7032e-01, 1.1189e-01,\n",
      "        2.2913e-01, 1.3928e-02, 1.0173e-01, 1.6857e-01, 3.7287e-01, 2.4707e-01,\n",
      "        8.9293e-02, 5.0673e-01, 5.2521e-02, 1.9507e-01, 1.0273e-01, 1.8189e-02,\n",
      "        3.5525e-01, 1.0059e-02, 2.5877e-02, 3.8620e-01, 3.7108e-01, 3.9001e-02,\n",
      "        3.0930e-02, 1.4526e-01, 1.0443e-01, 3.6564e-01, 2.0128e-01, 2.0188e-01,\n",
      "        3.8674e-01, 2.1853e-01, 2.8467e-01, 1.4942e-01, 2.7960e-01, 1.6877e-01,\n",
      "        1.2214e-01, 2.2481e-01, 1.9698e-01, 2.7352e-01, 3.5960e-01, 4.6523e-02,\n",
      "        1.0472e-01, 1.9210e-01, 8.1516e-02, 2.2892e-01, 1.4024e-01, 1.2876e-01,\n",
      "        3.6622e-01, 2.6074e-01, 1.6043e-01, 3.0566e-01, 5.5633e-01, 9.4869e-02,\n",
      "        7.5162e-02, 9.3381e-02, 5.0722e-01, 3.7273e-01, 2.3255e-01, 4.4833e-02,\n",
      "        3.5771e-01, 1.9349e-01, 7.8281e-02, 1.8358e-01, 4.5372e-02, 3.7324e-02,\n",
      "        5.6485e-01, 6.1544e-02, 4.8980e-01, 5.7047e-01, 9.2185e-02, 2.9234e-01,\n",
      "        3.7062e-02, 2.5268e-02, 1.1697e-01, 1.0364e-01, 1.0681e-01, 7.9258e-02,\n",
      "        3.5311e-01, 8.0476e-02, 2.4040e-01, 3.1136e-01, 2.9221e-01, 1.8193e-01,\n",
      "        3.7704e-01, 1.8831e-01, 1.1601e-01, 6.7258e-01, 4.3558e-01, 2.6187e-01,\n",
      "        3.2135e-01, 1.8452e-01, 1.2976e-01, 2.9920e-01, 2.1364e-01, 2.5097e-02,\n",
      "        9.4072e-02, 4.1849e-02, 8.1356e-02, 1.4038e-02, 2.1098e-01, 2.6280e-02,\n",
      "        8.8225e-02, 3.3364e-03, 6.2652e-02, 2.1002e-01, 2.4467e-01],\n",
      "       dtype=torch.float64)\n"
     ]
    },
    {
     "data": {
      "image/png": "[encoded data removed]",
      "text/plain": [
       "<Figure size 1512x648 with 2 Axes>"
      ]
     },
     "metadata": {},
     "output_type": "display_data"
    },
    {
     "name": "stdout",
     "output_type": "stream",
     "text": [
      "Approximation delta:  tensor([0.0680, 0.0155, 0.1231, 0.0257, 0.7007, 0.5104, 0.0946, 0.1956, 0.1366,\n",
      "        0.4216, 0.2816, 0.7479, 0.2303, 0.5488, 0.4207, 0.1373, 0.2834, 0.2137,\n",
      "        0.2275, 0.2113, 0.2158, 0.0309, 0.2342, 0.3020, 0.1412, 0.0596, 0.0606,\n",
      "        0.1233, 0.4019, 0.5149, 0.2070, 0.0879, 0.0852, 0.0046, 0.0471, 0.9341,\n",
      "        0.2180, 0.1752, 0.6389, 0.4519, 0.0758, 0.3467, 0.1885, 0.2759, 0.1020,\n",
      "        0.1212, 0.1559, 0.1838, 0.3411, 0.0380, 0.0455, 0.2434, 0.3259, 0.0150,\n",
      "        0.2675, 0.0338, 0.0678, 0.4359, 0.1488, 0.0725, 0.0542, 0.1730, 0.0956,\n",
      "        0.5288, 0.1438, 0.0472, 0.3814, 0.1419, 0.1970, 0.0809, 0.1935, 0.1712,\n",
      "        0.0973, 0.3932, 0.1167, 0.2618, 0.0980, 0.0224, 0.0820, 0.5405, 0.0115,\n",
      "        0.3827, 0.0468, 0.2418, 0.0130, 0.1333, 0.5401, 0.2128, 0.1955, 0.4986,\n",
      "        0.0692, 0.1541, 0.1748, 0.3752, 0.2806, 0.2653, 0.0680, 0.1726, 0.1752,\n",
      "        0.2552, 0.1572, 0.0865, 0.4361, 0.0116, 0.0913, 0.3584, 0.4375, 0.2520,\n",
      "        0.1824, 0.3700, 0.0847, 0.1192, 0.1817, 0.1270, 0.0684, 0.0539, 0.7798,\n",
      "        0.2034, 0.0169, 0.3069, 0.0011, 0.0183, 0.3877, 0.2558, 0.1166, 0.3224,\n",
      "        0.2607, 0.2308, 0.2301, 0.2177, 0.3751, 0.0292, 0.5386, 0.2438, 0.2371,\n",
      "        0.3314, 0.2781, 0.1785, 0.1747, 0.2658, 0.1986, 0.3043, 0.0546, 0.5059,\n",
      "        0.0340, 0.0508, 0.4126, 0.2189, 0.4606, 0.1392, 0.2357, 0.3695, 0.1420,\n",
      "        0.1458, 0.1895, 0.7709, 0.1866, 0.1062, 0.6143, 0.0480, 0.1056, 0.2702,\n",
      "        0.1751, 0.5163, 0.0273, 0.2570, 0.1825, 0.3368, 0.2182, 0.2004, 0.1377,\n",
      "        0.1868, 0.3203, 0.5868, 0.5693, 0.3109, 0.1257, 0.4662, 0.1132, 0.5198,\n",
      "        0.2861, 0.1783, 0.0172, 0.2439, 0.3739, 0.0443, 0.2741, 0.3677, 0.2815,\n",
      "        0.2413, 0.8357, 0.0033, 0.3014, 0.3408, 0.0136, 0.1079, 0.1779, 0.1145,\n",
      "        0.0068, 0.1600, 0.1045, 0.0223, 0.1791, 0.1286, 0.1406, 0.1002, 0.5229,\n",
      "        0.4607, 0.9083, 0.2003, 0.5223, 0.1295, 0.1863, 0.0421, 0.0188, 0.2070,\n",
      "        0.1045, 0.0411, 0.1238, 0.4296, 0.2683, 0.0839, 0.2675, 0.0125, 0.3882,\n",
      "        0.3217, 0.2375, 0.3432, 0.0909, 0.1697, 0.0657, 0.4220, 0.2454, 0.1865,\n",
      "        0.0734, 0.2372, 0.2208, 0.0434, 0.2937, 0.2969, 0.1573, 0.1540, 0.4633,\n",
      "        0.1957, 0.6392, 0.2282, 0.3194, 0.1262, 0.0790, 0.1510, 0.0901, 0.2155,\n",
      "        0.2996, 0.0206, 0.0700, 0.1397, 0.3579, 0.1698, 0.4203, 0.2623, 0.0849,\n",
      "        0.3306, 0.1592, 0.0914, 0.1365, 0.2769, 0.0875, 0.1201, 0.1272, 0.0918,\n",
      "        0.1494, 0.1646, 0.0043, 0.3590, 0.1987, 0.0209, 0.2466, 0.4291, 0.4283,\n",
      "        0.3625, 0.0070, 0.2885, 0.1778, 0.2194, 0.2651, 0.0087, 0.3750, 0.1986,\n",
      "        0.0400, 0.1991, 0.1934, 0.2379, 0.1668, 0.0830, 0.3509, 0.1978, 0.0913,\n",
      "        0.1439, 0.0860, 0.1141, 0.0294, 0.3077, 0.3776, 0.1742, 0.0333, 0.0658,\n",
      "        0.1860, 0.1257, 0.1401, 0.2975, 0.0493, 0.0534, 0.0785, 0.2324, 0.1471,\n",
      "        0.1619, 0.4056, 0.2047, 0.1012, 0.1843, 0.1171, 0.2408, 0.2242, 0.1636,\n",
      "        0.1560, 0.1609, 0.1607, 0.2891, 0.3898, 0.2008, 0.0595, 0.0582, 0.4842,\n",
      "        0.1842, 0.2710, 0.1094, 0.1329, 0.4338, 0.3707, 0.1100, 0.1396, 0.1779,\n",
      "        0.0086, 0.0477, 0.0221, 0.0969, 0.0987, 0.2464, 0.3532, 0.2103, 0.0467,\n",
      "        0.2499, 0.0933, 0.0186, 0.1847, 0.0823, 0.1088, 0.1356, 0.0988, 0.1008,\n",
      "        0.2699, 0.2865, 0.0201, 0.0673, 0.3133, 0.7274, 0.0459, 0.1021, 0.2380,\n",
      "        0.1632, 0.0550, 0.2035, 0.1364, 0.0307, 0.6106, 0.1030, 0.1380, 0.2429,\n",
      "        0.2157, 0.4652, 0.2664, 0.0797, 0.1818, 0.4060, 0.3442, 0.4587, 0.2356,\n",
      "        0.0569, 0.3209, 0.1518, 0.1312, 0.2929, 0.3794, 0.0700, 0.1325, 0.3798,\n",
      "        0.4223, 0.2699, 0.4697, 0.1970, 0.1628, 0.0647, 0.2979, 0.3932, 0.0173,\n",
      "        0.5493, 0.4458, 0.2622, 0.0426, 0.1228, 0.0823, 0.1821, 0.0060, 0.0193,\n",
      "        0.4149, 0.6672, 0.4439, 0.3564, 0.1253, 0.1240, 0.1271, 0.0066, 0.0580,\n",
      "        0.1169, 0.1721, 0.2727, 0.0175, 0.3597, 0.0877, 0.3753, 0.1597, 0.1322,\n",
      "        0.2319, 0.2101, 0.0858, 0.2263, 0.0353, 0.3924, 0.1056, 0.4176, 0.1086,\n",
      "        0.1324, 0.3811, 0.1400, 0.5463, 0.0178, 0.0019, 0.2137, 0.4265, 0.1809,\n",
      "        0.2760, 0.5183, 0.1660, 0.4973, 0.1432, 0.6647, 0.1824, 0.3448, 0.0867,\n",
      "        0.3034, 0.4011, 0.4907, 0.9193, 0.2595, 0.2427, 0.7404, 0.1512, 0.2764,\n",
      "        0.3458, 0.2366, 0.0462, 0.0557, 0.4424, 0.0819, 0.0887, 0.5897, 0.4746,\n",
      "        0.2940, 0.0150, 0.1679, 0.4416, 0.0675, 0.0766, 0.2883, 0.5578, 0.1219,\n",
      "        0.1108, 0.0070, 0.4201, 0.3001, 0.0955, 0.1394, 0.2408, 0.1977, 0.1362,\n",
      "        0.2503, 0.0771, 0.1028, 0.2300, 0.3582, 0.3439, 0.4131, 0.3291, 0.0333,\n",
      "        0.0055, 0.2694, 0.2041, 0.2123, 0.0779, 0.1944, 0.3574, 0.1959, 0.0965,\n",
      "        0.1842, 0.6729, 0.2621, 0.2740, 0.0303, 0.6579, 0.2483, 0.4459, 0.1106,\n",
      "        0.5488, 0.0610, 0.1071, 0.2374, 0.1200, 0.0571, 0.3938, 0.0196, 0.2914,\n",
      "        0.5505, 0.0300, 0.0788, 0.1274, 0.1637, 0.0755, 0.2931, 0.0077, 0.1283,\n",
      "        0.2281, 0.0619, 0.1835, 0.2071, 0.2290, 0.0486, 0.3333, 0.0029, 0.1476,\n",
      "        0.4917, 0.1929, 0.2936, 0.4893, 0.0600, 0.0188, 0.2171, 0.1794, 0.0819,\n",
      "        0.0498, 0.0330, 0.0727, 0.1728, 0.2549, 0.2090, 0.0162, 0.0637, 0.0127,\n",
      "        0.2626, 0.2210], dtype=torch.float64)\n"
     ]
    },
    {
     "data": {
      "image/png": "[encoded data removed]",
      "text/plain": [
       "<Figure size 1512x648 with 2 Axes>"
      ]
     },
     "metadata": {},
     "output_type": "display_data"
    }
   ],
   "source": [
    "ig = IntegratedGradients(model)\n",
    "\n",
    "\n",
    "model.zero_grad()\n",
    "attr_ig0, delta = ig.attribute(\n",
    "    inputs=feature,\n",
    "    target=0,\n",
    "    baselines=torch.zeros_like(feature),\n",
    "    return_convergence_delta=True,\n",
    ")\n",
    "print('Approximation delta: ', abs(delta))\n",
    "fig, axs = plt.subplots(1, 1, figsize=(21, 9))\n",
    "_ = viz.visualize_image_attr(\n",
    "    np.transpose(attr_ig0.cpu().detach().numpy(), (2,1,0)),\n",
    "    np.transpose(feature.cpu().detach().numpy(), (2,1,0)),\n",
    "    method='heat_map',\n",
    "    # cmap=default_cmap,\n",
    "    show_colorbar=True,\n",
    "    # sign='positive',\n",
    "    # outlier_perc=1,\n",
    "    plt_fig_axis=(fig, axs),\n",
    "    use_pyplot=False,\n",
    ")\n",
    "plt.show()\n",
    "plt.close()\n",
    "\n",
    "\n",
    "model.zero_grad()\n",
    "attr_ig1, delta = ig.attribute(\n",
    "    inputs=feature,\n",
    "    target=1,\n",
    "    baselines=torch.zeros_like(feature),\n",
    "    return_convergence_delta=True,\n",
    ")\n",
    "print('Approximation delta: ', abs(delta))\n",
    "fig, axs = plt.subplots(1, 1, figsize=(21, 9))\n",
    "_ = viz.visualize_image_attr(\n",
    "    np.transpose(attr_ig1.cpu().detach().numpy(), (2,1,0)),\n",
    "    np.transpose(feature.cpu().detach().numpy(), (2,1,0)),\n",
    "    method='heat_map',\n",
    "    # cmap=default_cmap,\n",
    "    show_colorbar=True,\n",
    "    # sign='positive',\n",
    "    # outlier_perc=1,\n",
    "    plt_fig_axis=(fig, axs),\n",
    "    use_pyplot=False,\n",
    ")\n",
    "plt.show()\n",
    "plt.close()"
   ]
  },
  {
   "cell_type": "code",
   "execution_count": 1,
   "id": "39a677f4",
   "metadata": {},
   "outputs": [
    {
     "ename": "NameError",
     "evalue": "name 'IntegratedGradients' is not defined",
     "output_type": "error",
     "traceback": [
      "\u001b[0;31m---------------------------------------------------------------------------\u001b[0m",
      "\u001b[0;31mNameError\u001b[0m                                 Traceback (most recent call last)",
      "\u001b[0;32m/var/folders/33/9wzrs0153dqcybhp5hzgjbn80000gn/T/ipykernel_82708/3221776561.py\u001b[0m in \u001b[0;36m<module>\u001b[0;34m\u001b[0m\n\u001b[0;32m----> 1\u001b[0;31m \u001b[0mig\u001b[0m \u001b[0;34m=\u001b[0m \u001b[0mIntegratedGradients\u001b[0m\u001b[0;34m(\u001b[0m\u001b[0mmodel\u001b[0m\u001b[0;34m)\u001b[0m\u001b[0;34m\u001b[0m\u001b[0;34m\u001b[0m\u001b[0m\n\u001b[0m\u001b[1;32m      2\u001b[0m \u001b[0mnt\u001b[0m \u001b[0;34m=\u001b[0m \u001b[0mNoiseTunnel\u001b[0m\u001b[0;34m(\u001b[0m\u001b[0mig\u001b[0m\u001b[0;34m)\u001b[0m\u001b[0;34m\u001b[0m\u001b[0;34m\u001b[0m\u001b[0m\n\u001b[1;32m      3\u001b[0m \u001b[0;34m\u001b[0m\u001b[0m\n\u001b[1;32m      4\u001b[0m \u001b[0;34m\u001b[0m\u001b[0m\n\u001b[1;32m      5\u001b[0m \u001b[0mmodel\u001b[0m\u001b[0;34m.\u001b[0m\u001b[0mzero_grad\u001b[0m\u001b[0;34m(\u001b[0m\u001b[0;34m)\u001b[0m\u001b[0;34m\u001b[0m\u001b[0;34m\u001b[0m\u001b[0m\n",
      "\u001b[0;31mNameError\u001b[0m: name 'IntegratedGradients' is not defined"
     ]
    }
   ],
   "source": [
    "\n",
    "ig = IntegratedGradients(model)\n",
    "nt = NoiseTunnel(ig)\n",
    "\n",
    "\n",
    "model.zero_grad()\n",
    "attr_ig_nt0, delta = nt.attribute(\n",
    "    inputs=feature,\n",
    "    target=0,\n",
    "    baselines=torch.zeros_like(feature),\n",
    "    return_convergence_delta=True,\n",
    "    nt_type='smoothgrad_sq',\n",
    "    nt_samples=5, \n",
    "    stdevs=0.2\n",
    ")\n",
    "print('Approximation delta: ', abs(delta))\n",
    "fig, axs = plt.subplots(1, 1, figsize=(21, 9))\n",
    "_ = viz.visualize_image_attr(\n",
    "    np.transpose(attr_ig_nt0.cpu().detach().numpy(), (2,1,0)),\n",
    "    np.transpose(feature.cpu().detach().numpy(), (2,1,0)),\n",
    "    method='heat_map',\n",
    "    # cmap=default_cmap,\n",
    "    show_colorbar=True,\n",
    "    # sign='positive',\n",
    "    outlier_perc=1,\n",
    "    plt_fig_axis=(fig, axs),\n",
    "    use_pyplot=False,\n",
    ")\n",
    "plt.show()\n",
    "plt.close()\n",
    "\n",
    "\n",
    "model.zero_grad()\n",
    "attr_ig_nt1, delta = nt.attribute(\n",
    "    inputs=feature,\n",
    "    target=1,\n",
    "    baselines=torch.zeros_like(feature),\n",
    "    return_convergence_delta=True,\n",
    "    nt_type='smoothgrad_sq',\n",
    "    nt_samples=5, \n",
    "    stdevs=0.2\n",
    ")\n",
    "print('Approximation delta: ', abs(delta))\n",
    "fig, axs = plt.subplots(1, 1, figsize=(21, 9))\n",
    "_ = viz.visualize_image_attr(\n",
    "    np.transpose(attr_ig_nt1.cpu().detach().numpy(), (2,1,0)),\n",
    "    np.transpose(feature.cpu().detach().numpy(), (2,1,0)),\n",
    "    method='heat_map',\n",
    "    # cmap=default_cmap,\n",
    "    show_colorbar=True,\n",
    "    # sign='positive',\n",
    "    outlier_perc=1,\n",
    "    plt_fig_axis=(fig, axs),\n",
    "    use_pyplot=False,\n",
    ")\n",
    "plt.show()\n",
    "plt.close()\n",
    "\n"
   ]
  },
  {
   "cell_type": "code",
   "execution_count": null,
   "id": "972bdaa7",
   "metadata": {},
   "outputs": [],
   "source": []
  }
 ],
 "metadata": {
  "interpreter": {
   "hash": "c0ffd7e4065b24b44b8bdafa0b1ab0a1116a1a2fbb1ea9932a9988df8c38c972"
  },
  "kernelspec": {
   "display_name": "Python [conda env:.conda-py37] *",
   "language": "python",
   "name": "python3"
  },
  "language_info": {
   "codemirror_mode": {
    "name": "ipython",
    "version": 3
   },
   "file_extension": ".py",
   "mimetype": "text/x-python",
   "name": "python",
   "nbconvert_exporter": "python",
   "pygments_lexer": "ipython3",
   "version": "3.7.12"
  }
 },
 "nbformat": 4,
 "nbformat_minor": 5
}
